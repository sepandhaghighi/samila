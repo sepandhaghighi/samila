{
 "cells": [
  {
   "cell_type": "markdown",
   "metadata": {
    "id": "3zCrnGm-FNN6"
   },
   "source": [
    "# Samila Bulk Generator"
   ]
  },
  {
   "cell_type": "markdown",
   "metadata": {
    "id": "-rqRJHD2FNN8"
   },
   "source": [
    "### Version : 1.3\n",
    "---"
   ]
  },
  {
   "cell_type": "code",
   "execution_count": null,
   "metadata": {
    "colab": {
     "base_uri": "https://localhost:8080/"
    },
    "id": "fPnBhIdeFNN9",
    "outputId": "063e6556-72e6-47ac-a46c-a7f42a562a42"
   },
   "outputs": [],
   "source": [
    "import sys\n",
    "import os\n",
    "try:\n",
    "  import google.colab\n",
    "  !{sys.executable} -m pip -q -q install samila\n",
    "except:\n",
    "  pass"
   ]
  },
  {
   "cell_type": "code",
   "execution_count": null,
   "metadata": {
    "id": "S7xMG7RtFNN-"
   },
   "outputs": [],
   "source": [
    "import math\n",
    "import random\n",
    "import time\n",
    "import matplotlib.pyplot as plt\n",
    "import shutil\n",
    "from samila import GenerativeImage, Marker, Projection, GenerateMode"
   ]
  },
  {
   "cell_type": "markdown",
   "metadata": {},
   "source": [
    "## Parameters"
   ]
  },
  {
   "cell_type": "markdown",
   "metadata": {},
   "source": [
    "### General"
   ]
  },
  {
   "cell_type": "code",
   "execution_count": null,
   "metadata": {},
   "outputs": [],
   "source": [
    "NUMBER = 20\n",
    "FUNC_SEED = None\n",
    "START_SEED = None\n",
    "OUTPUT_FOLDER_NAME = \"SAMILA\"\n",
    "ZIP = True\n",
    "ZIP_FILE_NAME = \"{0}_{1}_{2}_{3}\".format(OUTPUT_FOLDER_NAME, NUMBER, FUNC_SEED, START_SEED)\n",
    "DEPTH = 1"
   ]
  },
  {
   "cell_type": "markdown",
   "metadata": {},
   "source": [
    "### Generate"
   ]
  },
  {
   "cell_type": "code",
   "execution_count": null,
   "metadata": {},
   "outputs": [],
   "source": [
    "GEN_SEED = None\n",
    "GEN_START = -1 * math.pi\n",
    "GEN_STOP = math.pi\n",
    "GEN_STEP = 0.01\n",
    "GEN_MODE = GenerateMode.DEFAULT"
   ]
  },
  {
   "cell_type": "markdown",
   "metadata": {},
   "source": [
    "### Plot"
   ]
  },
  {
   "cell_type": "code",
   "execution_count": null,
   "metadata": {},
   "outputs": [],
   "source": [
    "COLOR = \"black\"\n",
    "BGCOLOR = \"white\"\n",
    "CMAP = \"viridis\"\n",
    "SPOT_SIZE = 0.01\n",
    "SIZE = (10, 10)\n",
    "PROJECTION = Projection.DEFAULT\n",
    "MARKER = Marker.DEFAULT\n",
    "ALPHA = 0.1\n",
    "LINE_WIDTH = 1.5\n",
    "ROTATION = 0"
   ]
  },
  {
   "cell_type": "markdown",
   "metadata": {
    "id": "zNshK1kpFNN-"
   },
   "source": [
    "## Run"
   ]
  },
  {
   "cell_type": "markdown",
   "metadata": {},
   "source": [
    "⚠️ Be cautious about using the same folder name for different runs, as this could lead to overwriting your previous results"
   ]
  },
  {
   "cell_type": "code",
   "execution_count": null,
   "metadata": {
    "colab": {
     "base_uri": "https://localhost:8080/"
    },
    "id": "e0v6eb8RFNN_",
    "outputId": "8f3e02ee-9701-42c2-a323-dae5eb6f4fa5"
   },
   "outputs": [],
   "source": [
    "random.seed(START_SEED)\n",
    "index = 1\n",
    "if OUTPUT_FOLDER_NAME in os.listdir():\n",
    "    shutil.rmtree(OUTPUT_FOLDER_NAME)\n",
    "os.mkdir(OUTPUT_FOLDER_NAME)\n",
    "start_time = time.time()\n",
    "while(index<=NUMBER):\n",
    "    g = GenerativeImage(func_seed=FUNC_SEED)\n",
    "    print(\"Generating ...\")\n",
    "    print(\"*\" * 50)\n",
    "    g.generate(seed=GEN_SEED, \n",
    "               start=GEN_START, \n",
    "               stop=GEN_STOP, \n",
    "               step=GEN_STEP, \n",
    "               mode=GEN_MODE)\n",
    "    print(\"Plotting ...\")\n",
    "    print(\"*\" * 50)\n",
    "    g.plot(projection=PROJECTION, \n",
    "           color=COLOR, \n",
    "           bgcolor=BGCOLOR, \n",
    "           cmap=CMAP,\n",
    "           spot_size=SPOT_SIZE, \n",
    "           linewidth=LINE_WIDTH,\n",
    "           size=SIZE,\n",
    "           marker=MARKER,\n",
    "          alpha=ALPHA,\n",
    "          rotation=ROTATION)\n",
    "    print(\"Saving ...\")\n",
    "    print(\"*\" * 50)\n",
    "    result = g.save_image(os.path.join(OUTPUT_FOLDER_NAME, \"{0}.png\".format(index)), depth=DEPTH)\n",
    "    g.save_config(os.path.join(OUTPUT_FOLDER_NAME, \"{0}.json\".format(index)))\n",
    "    if result[\"status\"]:\n",
    "        print(\"Done! ({0})\".format(index))\n",
    "    else:\n",
    "        print(\"Error! ({0})\".format(index))\n",
    "    print(\"*\" * 50)\n",
    "    index = index + 1\n",
    "    del(g)\n",
    "if ZIP:\n",
    "    shutil.make_archive(ZIP_FILE_NAME, 'zip', OUTPUT_FOLDER_NAME)\n",
    "end_time = time.time()\n",
    "print(\"Total Time: {0} s\".format(round(end_time - start_time, 2)))"
   ]
  }
 ],
 "metadata": {
  "colab": {
   "provenance": []
  },
  "kernelspec": {
   "display_name": "Python 3",
   "language": "python",
   "name": "python3"
  },
  "language_info": {
   "codemirror_mode": {
    "name": "ipython",
    "version": 3
   },
   "file_extension": ".py",
   "mimetype": "text/x-python",
   "name": "python",
   "nbconvert_exporter": "python",
   "pygments_lexer": "ipython3",
   "version": "3.5.2"
  },
  "toc": {
   "base_numbering": 1,
   "nav_menu": {},
   "number_sections": false,
   "sideBar": true,
   "skip_h1_title": false,
   "title_cell": "Table of Contents",
   "title_sidebar": "Samila Bulk Generator",
   "toc_cell": false,
   "toc_position": {},
   "toc_section_display": true,
   "toc_window_display": false
  }
 },
 "nbformat": 4,
 "nbformat_minor": 1
}
